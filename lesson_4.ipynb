{
 "cells": [
  {
   "cell_type": "code",
   "execution_count": 13,
   "id": "63d2cc42",
   "metadata": {},
   "outputs": [],
   "source": [
    "import numpy as np\n",
    "from statistics import NormalDist"
   ]
  },
  {
   "cell_type": "markdown",
   "id": "8ba5b270",
   "metadata": {},
   "source": [
    "**1) Случайная непрерывная величина A имеет равномерное распределение на промежутке (200, 800].\n",
    "Найдите ее среднее значение и дисперсию.**"
   ]
  },
  {
   "cell_type": "markdown",
   "id": "8a99ec06",
   "metadata": {},
   "source": [
    "$$M(X) = \\frac{a + b}{2} = \\frac{200 + 800}{2} = 500$$"
   ]
  },
  {
   "cell_type": "markdown",
   "id": "b02b3b29",
   "metadata": {},
   "source": [
    "$$D(X) = \\frac{(b - a)^2}{12} = \\frac{(800 - 200)^2}{12} = 30000$$"
   ]
  },
  {
   "cell_type": "markdown",
   "id": "2aa2a7d8",
   "metadata": {},
   "source": [
    "**2) О случайной непрерывной равномерно распределенной величине B известно, что ее дисперсия равна 0.2.\n",
    "Можно ли найти правую границу величины B и ее среднее значение зная, что левая граница равна 0.5?\n",
    "Если да, найдите ее.**"
   ]
  },
  {
   "cell_type": "markdown",
   "id": "612d9342",
   "metadata": {},
   "source": [
    "$$D(X) = \\frac{(b - a)^2}{12} = \\frac{(b - 0.5)^2}{12} = 0.2$$"
   ]
  },
  {
   "cell_type": "code",
   "execution_count": 6,
   "id": "f2095a08",
   "metadata": {},
   "outputs": [
    {
     "name": "stdout",
     "output_type": "stream",
     "text": [
      "Правая граница: 2.049193338482967\n"
     ]
    }
   ],
   "source": [
    "a = 0.5\n",
    "b = np.sqrt(0.2 * 12) + a\n",
    "print(f'Правая граница: {b}')"
   ]
  },
  {
   "cell_type": "markdown",
   "id": "f54321d9",
   "metadata": {},
   "source": [
    "$$M(X) = \\frac{a + b}{2}$$"
   ]
  },
  {
   "cell_type": "code",
   "execution_count": 8,
   "id": "c6a37b6c",
   "metadata": {},
   "outputs": [
    {
     "name": "stdout",
     "output_type": "stream",
     "text": [
      "Cреднее значение: 1.2745966692414834\n"
     ]
    }
   ],
   "source": [
    "print(f'Cреднее значение: {(a + b) / 2}')"
   ]
  },
  {
   "cell_type": "markdown",
   "id": "cb01e31d",
   "metadata": {},
   "source": [
    "**3) Непрерывная случайная величина X распределена нормально и задана плотностью распределения\n",
    "f(x) = (1 / (4 * sqrt(2*pi))) * (exp(-(x+2)^2) / 32).\n",
    "Найдите:\n",
    "а). M(X)\n",
    "б). D(X)\n",
    "в). std(X) (среднее квадратичное отклонение)**"
   ]
  },
  {
   "cell_type": "markdown",
   "id": "ed02f5cf",
   "metadata": {},
   "source": [
    "$$f(x) = \\frac{1}{\\sigma \\sqrt{2 \\pi}} e ^ {- \\frac{(x - a)^2}{2 \\sigma^2}}$$"
   ]
  },
  {
   "cell_type": "markdown",
   "id": "e22d36bb",
   "metadata": {},
   "source": [
    "где $a = M(X), \\; \\sigma^2 = D(X)$"
   ]
  },
  {
   "cell_type": "markdown",
   "id": "13105328",
   "metadata": {},
   "source": [
    "$$f(x) = \\frac{1}{4 \\sqrt{2 \\pi}} e ^ {- \\frac{(x + 2)^2}{32}}$$"
   ]
  },
  {
   "cell_type": "markdown",
   "id": "ce2962d1",
   "metadata": {},
   "source": [
    "$M(X) = a = -2$"
   ]
  },
  {
   "cell_type": "markdown",
   "id": "0a595b5f",
   "metadata": {},
   "source": [
    "$D(X) = \\sigma^2 = 16$"
   ]
  },
  {
   "cell_type": "markdown",
   "id": "3d0143b6",
   "metadata": {},
   "source": [
    "$std(X) = \\sigma = 4$"
   ]
  },
  {
   "cell_type": "markdown",
   "id": "925bb669",
   "metadata": {},
   "source": [
    "**4) Рост взрослого населения города X имеет нормальное распределение.\n",
    "Причем, средний рост равен 174 см, а среднее квадратичное отклонение равно 8 см.\n",
    "Какова вероятность того, что случайным образом выбранный взрослый человек имеет рост:\n",
    "а). больше 182 см\n",
    "б). больше 190 см\n",
    "в). от 166 см до 190 см\n",
    "г). от 166 см до 182 см\n",
    "д). от 158 см до 190 см\n",
    "е). не выше 150 см или не ниже 190 см\n",
    "ё). не выше 150 см или не ниже 198 см\n",
    "ж). ниже 166 см.**"
   ]
  },
  {
   "cell_type": "code",
   "execution_count": 14,
   "id": "cd4c0957",
   "metadata": {},
   "outputs": [],
   "source": [
    "def probability(height):\n",
    "    mu = 174\n",
    "    sigma = 8\n",
    "    P = NormalDist(mu, sigma).cdf(height)\n",
    "    return P"
   ]
  },
  {
   "cell_type": "code",
   "execution_count": 16,
   "id": "81281084",
   "metadata": {},
   "outputs": [
    {
     "data": {
      "text/plain": [
       "0.15865525393145719"
      ]
     },
     "execution_count": 16,
     "metadata": {},
     "output_type": "execute_result"
    }
   ],
   "source": [
    "#а). больше 182 см\n",
    "1 - probability(182)"
   ]
  },
  {
   "cell_type": "code",
   "execution_count": 17,
   "id": "5d9ea488",
   "metadata": {},
   "outputs": [
    {
     "data": {
      "text/plain": [
       "0.022750131948179098"
      ]
     },
     "execution_count": 17,
     "metadata": {},
     "output_type": "execute_result"
    }
   ],
   "source": [
    "#б). больше 190 см\n",
    "1 - probability(190)"
   ]
  },
  {
   "cell_type": "code",
   "execution_count": 18,
   "id": "a7a1ddc6",
   "metadata": {},
   "outputs": [
    {
     "data": {
      "text/plain": [
       "0.8185946141203637"
      ]
     },
     "execution_count": 18,
     "metadata": {},
     "output_type": "execute_result"
    }
   ],
   "source": [
    "#в). от 166 см до 190 см\n",
    "probability(190) - probability(166)"
   ]
  },
  {
   "cell_type": "code",
   "execution_count": 19,
   "id": "8835fc66",
   "metadata": {},
   "outputs": [
    {
     "data": {
      "text/plain": [
       "0.6826894921370856"
      ]
     },
     "execution_count": 19,
     "metadata": {},
     "output_type": "execute_result"
    }
   ],
   "source": [
    "#г). от 166 см до 182 см\n",
    "probability(182) - probability(166)"
   ]
  },
  {
   "cell_type": "code",
   "execution_count": 21,
   "id": "6a2c80fa",
   "metadata": {},
   "outputs": [
    {
     "data": {
      "text/plain": [
       "0.9544997361036418"
      ]
     },
     "execution_count": 21,
     "metadata": {},
     "output_type": "execute_result"
    }
   ],
   "source": [
    "#д). от 158 см до 190 см\n",
    "probability(190) - probability(158)"
   ]
  },
  {
   "cell_type": "code",
   "execution_count": 23,
   "id": "e16fa2de",
   "metadata": {},
   "outputs": [
    {
     "data": {
      "text/plain": [
       "0.0241000299798092"
      ]
     },
     "execution_count": 23,
     "metadata": {},
     "output_type": "execute_result"
    }
   ],
   "source": [
    "#е). не выше 150 см или не ниже 190 см\n",
    "1 - probability(190) + probability(150)"
   ]
  },
  {
   "cell_type": "code",
   "execution_count": 24,
   "id": "3ef9690f",
   "metadata": {},
   "outputs": [
    {
     "data": {
      "text/plain": [
       "0.002699796063260207"
      ]
     },
     "execution_count": 24,
     "metadata": {},
     "output_type": "execute_result"
    }
   ],
   "source": [
    "#ё). не выше 150 см или не ниже 198 см\n",
    "1 - probability(198) + probability(150)"
   ]
  },
  {
   "cell_type": "code",
   "execution_count": 22,
   "id": "be20570a",
   "metadata": {},
   "outputs": [
    {
     "data": {
      "text/plain": [
       "0.15865525393145713"
      ]
     },
     "execution_count": 22,
     "metadata": {},
     "output_type": "execute_result"
    }
   ],
   "source": [
    "#ж). ниже 166 см\n",
    "probability(166)"
   ]
  },
  {
   "cell_type": "markdown",
   "id": "12f4cdcf",
   "metadata": {},
   "source": [
    "**5) На сколько сигм (средних квадратичных отклонений) отклоняется рост человека, равный 190 см, от\n",
    "математического ожидания роста в популяции, в которой M(X) = 178 см и D(X) = 25 кв.см?**"
   ]
  },
  {
   "cell_type": "markdown",
   "id": "05fd900b",
   "metadata": {},
   "source": [
    "$D(X) = {\\sigma}^2, {\\sigma} = 5$"
   ]
  },
  {
   "cell_type": "markdown",
   "id": "744abe67",
   "metadata": {},
   "source": [
    "$M(X) = \\frac{X - M(X)}{\\sigma} = \\frac{190 - 178}{5} = 2.4$"
   ]
  }
 ],
 "metadata": {
  "kernelspec": {
   "display_name": "Python 3 (ipykernel)",
   "language": "python",
   "name": "python3"
  },
  "language_info": {
   "codemirror_mode": {
    "name": "ipython",
    "version": 3
   },
   "file_extension": ".py",
   "mimetype": "text/x-python",
   "name": "python",
   "nbconvert_exporter": "python",
   "pygments_lexer": "ipython3",
   "version": "3.9.7"
  }
 },
 "nbformat": 4,
 "nbformat_minor": 5
}
