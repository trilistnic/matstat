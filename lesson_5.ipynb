{
 "cells": [
  {
   "cell_type": "code",
   "execution_count": 8,
   "id": "aa10394b",
   "metadata": {},
   "outputs": [],
   "source": [
    "import numpy as np\n",
    "import scipy.stats as st"
   ]
  },
  {
   "cell_type": "markdown",
   "id": "1819508a",
   "metadata": {},
   "source": [
    "**1) Известно, что генеральная совокупность распределена нормально\n",
    "со средним квадратическим отклонением, равным 16.\n",
    "Найти доверительный интервал для оценки математического ожидания a с надежностью 0.95,\n",
    "если выборочная средняя M = 80, а объем выборки n = 256.**"
   ]
  },
  {
   "cell_type": "code",
   "execution_count": 87,
   "id": "f45e174b",
   "metadata": {},
   "outputs": [],
   "source": [
    "a = 0.05\n",
    "n = 256\n",
    "m = 80\n",
    "s = 16"
   ]
  },
  {
   "cell_type": "markdown",
   "id": "081e5666",
   "metadata": {},
   "source": [
    "$t_{1 - \\alpha/2, \\: n - 1}$"
   ]
  },
  {
   "cell_type": "code",
   "execution_count": 88,
   "id": "ddfbf8cb",
   "metadata": {},
   "outputs": [
    {
     "data": {
      "text/plain": [
       "1.9693105698491928"
      ]
     },
     "execution_count": 88,
     "metadata": {},
     "output_type": "execute_result"
    }
   ],
   "source": [
    "t = st.t.ppf(1 - a/2, n - 1)\n",
    "t"
   ]
  },
  {
   "cell_type": "markdown",
   "id": "e15568bc",
   "metadata": {},
   "source": [
    "$$\n",
    "P \\left( \n",
    "\\overline{X} - t_{1 - \\alpha/2, \\: n - 1} \\cdot \\dfrac{\\sigma_X}{\\sqrt{n}} \n",
    "\\leq M(X) \\leq\n",
    "\\overline{X} + t_{1 - \\alpha/2, \\: n - 1} \\cdot \\dfrac{\\sigma_X}{\\sqrt{n}} \n",
    "\\right).\n",
    "$$"
   ]
  },
  {
   "cell_type": "code",
   "execution_count": 48,
   "id": "a19260e6",
   "metadata": {},
   "outputs": [
    {
     "data": {
      "text/plain": [
       "(78.0306894301508, 81.9693105698492)"
      ]
     },
     "execution_count": 48,
     "metadata": {},
     "output_type": "execute_result"
    }
   ],
   "source": [
    "(m - t * s / np.sqrt(n), m + t * s / np.sqrt(n))"
   ]
  },
  {
   "cell_type": "markdown",
   "id": "26070bc2",
   "metadata": {},
   "source": [
    "$ИЛИ$"
   ]
  },
  {
   "cell_type": "code",
   "execution_count": 49,
   "id": "359782ab",
   "metadata": {},
   "outputs": [
    {
     "data": {
      "text/plain": [
       "(78.0306894301508, 81.9693105698492)"
      ]
     },
     "execution_count": 49,
     "metadata": {},
     "output_type": "execute_result"
    }
   ],
   "source": [
    "st.t.interval(1 - a, n - 1, m)"
   ]
  },
  {
   "cell_type": "markdown",
   "id": "24b0800a",
   "metadata": {},
   "source": [
    "**2) В результате 10 независимых измерений некоторой величины X, выполненных с одинаковой точностью,\n",
    "получены опытные данные:\n",
    "6.9, 6.1, 6.2, 6.8, 7.5, 6.3, 6.4, 6.9, 6.7, 6.1\n",
    "Предполагая, что результаты измерений подчинены нормальному закону распределения вероятностей,\n",
    "оценить истинное значение величины X при помощи доверительного интервала, покрывающего это\n",
    "значение с доверительной вероятностью 0,95.**"
   ]
  },
  {
   "cell_type": "code",
   "execution_count": 17,
   "id": "65ca616d",
   "metadata": {},
   "outputs": [],
   "source": [
    "data = np.array([6.9, 6.1, 6.2, 6.8, 7.5, 6.3, 6.4, 6.9, 6.7, 6.1])"
   ]
  },
  {
   "cell_type": "code",
   "execution_count": 38,
   "id": "2ec22d84",
   "metadata": {},
   "outputs": [],
   "source": [
    "a = 0.05\n",
    "n = data.shape[0]\n",
    "m = data.mean()\n",
    "s = data.std(ddof=1)"
   ]
  },
  {
   "cell_type": "markdown",
   "id": "b3c11904",
   "metadata": {},
   "source": [
    "$t_{1 - \\alpha/2, \\: n - 1}$"
   ]
  },
  {
   "cell_type": "code",
   "execution_count": 41,
   "id": "1e0cf620",
   "metadata": {},
   "outputs": [
    {
     "data": {
      "text/plain": [
       "2.2621571627409915"
      ]
     },
     "execution_count": 41,
     "metadata": {},
     "output_type": "execute_result"
    }
   ],
   "source": [
    "t = st.t.ppf(1 - a/2, n - 1)\n",
    "t"
   ]
  },
  {
   "cell_type": "markdown",
   "id": "32e2dd9d",
   "metadata": {},
   "source": [
    "$$\n",
    "P \\left( \n",
    "\\overline{X} - t_{1 - \\alpha/2, \\: n - 1} \\cdot \\dfrac{\\sigma_X}{\\sqrt{n}} \n",
    "\\leq M(X) \\leq\n",
    "\\overline{X} + t_{1 - \\alpha/2, \\: n - 1} \\cdot \\dfrac{\\sigma_X}{\\sqrt{n}} \n",
    "\\right).\n",
    "$$"
   ]
  },
  {
   "cell_type": "code",
   "execution_count": 42,
   "id": "e88b84ef",
   "metadata": {},
   "outputs": [
    {
     "data": {
      "text/plain": [
       "(6.267515851415713, 6.912484148584288)"
      ]
     },
     "execution_count": 42,
     "metadata": {},
     "output_type": "execute_result"
    }
   ],
   "source": [
    "(m - t * s / np.sqrt(n), m + t * s / np.sqrt(n))"
   ]
  },
  {
   "cell_type": "markdown",
   "id": "70e8f675",
   "metadata": {},
   "source": [
    "$ИЛИ$"
   ]
  },
  {
   "cell_type": "code",
   "execution_count": 44,
   "id": "7c4593ec",
   "metadata": {},
   "outputs": [
    {
     "data": {
      "text/plain": [
       "(6.267515851415713, 6.912484148584288)"
      ]
     },
     "execution_count": 44,
     "metadata": {},
     "output_type": "execute_result"
    }
   ],
   "source": [
    "st.t.interval(1 - a, n - 1, np.mean(x), st.sem(x))"
   ]
  },
  {
   "cell_type": "markdown",
   "id": "2ab5e5c2",
   "metadata": {},
   "source": [
    "**3) Утверждается, что шарики для подшипников, изготовленные автоматическим станком, имеют средний диаметр 17 мм.\n",
    "Используя односторонний критерий с α=0,05, проверить эту гипотезу, если в выборке из n=100 шариков средний диаметр\n",
    "оказался равным 17.5 мм, а дисперсия известна и равна 4 мм.**"
   ]
  },
  {
   "cell_type": "markdown",
   "id": "36d03f44",
   "metadata": {},
   "source": [
    "$H_0: M=17$\n",
    "<br>\n",
    "$H_1: M>17$"
   ]
  },
  {
   "cell_type": "markdown",
   "id": "93301f52",
   "metadata": {},
   "source": [
    "$$T = \\dfrac{\\overline{X} - M}{\\dfrac{\\sigma_X}{\\sqrt{n}}}$$"
   ]
  },
  {
   "cell_type": "code",
   "execution_count": 90,
   "id": "ac6ecccd",
   "metadata": {},
   "outputs": [],
   "source": [
    "m = 17\n",
    "x = 17.5\n",
    "d = 4\n",
    "sigma = np.sqrt(d)\n",
    "n = 100\n",
    "a = 0.05"
   ]
  },
  {
   "cell_type": "code",
   "execution_count": 91,
   "id": "f1c048ed",
   "metadata": {},
   "outputs": [
    {
     "data": {
      "text/plain": [
       "2.5"
      ]
     },
     "execution_count": 91,
     "metadata": {},
     "output_type": "execute_result"
    }
   ],
   "source": [
    "t_v = (x-m)/(sigma/np.sqrt(n))\n",
    "t_v"
   ]
  },
  {
   "cell_type": "markdown",
   "id": "3ca4e555",
   "metadata": {},
   "source": [
    "$\\Omega_\\alpha = \\left( t_{1 - \\alpha, \\: n - 1}, \\infty \\right)$"
   ]
  },
  {
   "cell_type": "code",
   "execution_count": 95,
   "id": "7535602f",
   "metadata": {},
   "outputs": [
    {
     "data": {
      "text/plain": [
       "1.6603911559963895"
      ]
     },
     "execution_count": 95,
     "metadata": {},
     "output_type": "execute_result"
    }
   ],
   "source": [
    "t = st.t.ppf(1 - a, n - 1)\n",
    "t"
   ]
  },
  {
   "cell_type": "markdown",
   "id": "df4520bf",
   "metadata": {},
   "source": [
    "T выходит за границы t критических, значит нулевая гипотеза не верна"
   ]
  },
  {
   "cell_type": "markdown",
   "id": "ac722ae0",
   "metadata": {},
   "source": [
    "**4) Продавец утверждает, что средний вес пачки печенья составляет 200 г.\n",
    "Из партии извлечена выборка из 10 пачек. Вес каждой пачки составляет:\n",
    "202, 203, 199, 197, 195, 201, 200, 204, 194, 190.\n",
    "Известно, что их веса распределены нормально.\n",
    "Верно ли утверждение продавца, если учитывать, что доверительная вероятность равна 99%?**"
   ]
  },
  {
   "cell_type": "markdown",
   "id": "d05b011b",
   "metadata": {},
   "source": [
    "$H_0: M=200$\n",
    "<br>\n",
    "$H_1: M\\ne200$"
   ]
  },
  {
   "cell_type": "markdown",
   "id": "bb7c24cd",
   "metadata": {},
   "source": [
    "$$T = \\dfrac{\\overline{X} - M}{\\dfrac{\\sigma_X}{\\sqrt{n}}}$$"
   ]
  },
  {
   "cell_type": "code",
   "execution_count": 111,
   "id": "14e56802",
   "metadata": {},
   "outputs": [],
   "source": [
    "data = np.array([202, 203, 199, 197, 195, 201, 200, 204, 194, 190])"
   ]
  },
  {
   "cell_type": "code",
   "execution_count": 112,
   "id": "9b39d0da",
   "metadata": {},
   "outputs": [],
   "source": [
    "m = 200\n",
    "x = data.mean()\n",
    "sigma = data.std(ddof=1)\n",
    "n = data.shape[0]\n",
    "a = 0.01"
   ]
  },
  {
   "cell_type": "code",
   "execution_count": 113,
   "id": "f42cdc11",
   "metadata": {},
   "outputs": [
    {
     "data": {
      "text/plain": [
       "-1.0651074037450896"
      ]
     },
     "execution_count": 113,
     "metadata": {},
     "output_type": "execute_result"
    }
   ],
   "source": [
    "t = (x-m)/(sigma/np.sqrt(n))\n",
    "t"
   ]
  },
  {
   "cell_type": "code",
   "execution_count": 115,
   "id": "1ef72867",
   "metadata": {},
   "outputs": [
    {
     "data": {
      "text/plain": [
       "(-3.2498355440153697, 3.2498355440153697)"
      ]
     },
     "execution_count": 115,
     "metadata": {},
     "output_type": "execute_result"
    }
   ],
   "source": [
    "st.t.interval(1 - a, n - 1)"
   ]
  },
  {
   "cell_type": "markdown",
   "id": "10c37b88",
   "metadata": {},
   "source": [
    "$$\\Omega_\\alpha = \\left( -\\infty, - t_{1 - \\alpha/2, \\: n - 1} \\right) \\cup \\left( t_{1 - \\alpha/2, \\: n - 1}, \\infty \\right)$$"
   ]
  },
  {
   "cell_type": "markdown",
   "id": "e3b6b50f",
   "metadata": {},
   "source": [
    "T не выходит за границы t критических, значит нулевая гипотеза верна"
   ]
  }
 ],
 "metadata": {
  "kernelspec": {
   "display_name": "Python 3 (ipykernel)",
   "language": "python",
   "name": "python3"
  },
  "language_info": {
   "codemirror_mode": {
    "name": "ipython",
    "version": 3
   },
   "file_extension": ".py",
   "mimetype": "text/x-python",
   "name": "python",
   "nbconvert_exporter": "python",
   "pygments_lexer": "ipython3",
   "version": "3.9.7"
  }
 },
 "nbformat": 4,
 "nbformat_minor": 5
}
