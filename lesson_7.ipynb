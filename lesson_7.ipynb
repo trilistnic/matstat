{
 "cells": [
  {
   "cell_type": "code",
   "execution_count": 1,
   "id": "c5d5c802",
   "metadata": {},
   "outputs": [],
   "source": [
    "import numpy as np\n",
    "import matplotlib.pyplot as plt\n",
    "%matplotlib inline"
   ]
  },
  {
   "cell_type": "markdown",
   "id": "5cc47171",
   "metadata": {},
   "source": [
    "**1) Даны значения величины заработной платы заемщиков банка (zp) и значения их поведенческого кредитного скоринга (ks): zp = [35, 45, 190, 200, 40, 70, 54, 150, 120, 110], ks = [401, 574, 874, 919, 459, 739, 653, 902, 746, 832]. Используя математические операции, посчитать коэффициенты линейной регрессии, приняв за X заработную плату (то есть, zp - признак), а за y - значения скорингового балла (то есть, ks - целевая переменная). Произвести расчет как с использованием intercept, так и без.**"
   ]
  },
  {
   "cell_type": "code",
   "execution_count": 27,
   "id": "7835a4ee",
   "metadata": {},
   "outputs": [],
   "source": [
    "zp = np.array([35, 45, 190, 200, 40, 70, 54, 150, 120, 110])\n",
    "ks = np.array([401, 574, 874, 919, 459, 739, 653, 902, 746, 832])"
   ]
  },
  {
   "cell_type": "markdown",
   "id": "519fa478",
   "metadata": {},
   "source": [
    "$$b_1 = \\frac{\\overline{yx} - \\overline{y} \\cdot {\\overline{x}}}{\\overline{x^2} - (\\overline{x})^2}, \\: b_0 = \\overline{y} - b_1 \\cdot {\\overline{x}}$$"
   ]
  },
  {
   "cell_type": "code",
   "execution_count": 4,
   "id": "80ae69a7",
   "metadata": {},
   "outputs": [
    {
     "data": {
      "text/plain": [
       "2.620538882402765"
      ]
     },
     "execution_count": 4,
     "metadata": {},
     "output_type": "execute_result"
    }
   ],
   "source": [
    "b1 = ((zp * ks).mean() - zp.mean() * ks.mean()) / ((zp ** 2).mean() - (zp.mean() ** 2))\n",
    "b1"
   ]
  },
  {
   "cell_type": "code",
   "execution_count": 6,
   "id": "098b5464",
   "metadata": {},
   "outputs": [
    {
     "data": {
      "text/plain": [
       "444.1773573243596"
      ]
     },
     "execution_count": 6,
     "metadata": {},
     "output_type": "execute_result"
    }
   ],
   "source": [
    "b0 = ks.mean() - b1 * zp.mean()\n",
    "b0"
   ]
  },
  {
   "cell_type": "code",
   "execution_count": 12,
   "id": "861d1442",
   "metadata": {},
   "outputs": [
    {
     "data": {
      "text/plain": [
       "[<matplotlib.lines.Line2D at 0x1f21e02d490>]"
      ]
     },
     "execution_count": 12,
     "metadata": {},
     "output_type": "execute_result"
    },
    {
     "data": {
      "image/png": "[encoded data removed]",
      "text/plain": [
       "<Figure size 432x288 with 1 Axes>"
      ]
     },
     "metadata": {
      "needs_background": "light"
     },
     "output_type": "display_data"
    }
   ],
   "source": [
    "ox = zp\n",
    "oy = b0 + b1 * ox\n",
    "\n",
    "plt.scatter(zp, ks)\n",
    "plt.plot(ox, oy, color='red')"
   ]
  },
  {
   "cell_type": "markdown",
   "id": "e3c99345",
   "metadata": {},
   "source": [
    "$$X = \\left(\n",
    "\\begin{array}{ccc}\n",
    "x_{10} & \\dots & x_{1k} \\\\\n",
    "x_{20} & \\dots & x_{2k} \\\\\n",
    "\\vdots & \\ddots & \\vdots \\\\\n",
    "x_{m0} & \\dots & x_{mk}\n",
    "\\end{array}\n",
    "\\right), \\: \n",
    "y = \\left(\n",
    "\\begin{array}{c}\n",
    "y_1 \\\\\n",
    "\\vdots \\\\\n",
    "y_m\n",
    "\\end{array}\n",
    "\\right)$$\n",
    "<br>\n",
    "$$X \\cdot b = y$$\n",
    "<br>\n",
    "$$b = (X^\\top X)^{-1} X^\\top y.$$"
   ]
  },
  {
   "cell_type": "code",
   "execution_count": 29,
   "id": "49693645",
   "metadata": {},
   "outputs": [],
   "source": [
    "zp = zp.reshape(-1, 1)\n",
    "ks = ks.reshape(-1, 1)"
   ]
  },
  {
   "cell_type": "code",
   "execution_count": 36,
   "id": "8145730f",
   "metadata": {},
   "outputs": [],
   "source": [
    "X = np.hstack((np.ones((zp.shape[0], 1)), zp))\n",
    "y = ks"
   ]
  },
  {
   "cell_type": "code",
   "execution_count": 34,
   "id": "1b9c6249",
   "metadata": {},
   "outputs": [
    {
     "data": {
      "text/plain": [
       "349464.00000000023"
      ]
     },
     "execution_count": 34,
     "metadata": {},
     "output_type": "execute_result"
    }
   ],
   "source": [
    "XTX = X.T.dot(X)\n",
    "\n",
    "np.linalg.det(XTX)"
   ]
  },
  {
   "cell_type": "code",
   "execution_count": 37,
   "id": "d2b69a55",
   "metadata": {},
   "outputs": [
    {
     "name": "stdout",
     "output_type": "stream",
     "text": [
      "[[444.17735732]\n",
      " [  2.62053888]]\n"
     ]
    }
   ],
   "source": [
    "XTX_inv = np.linalg.inv(XTX)\n",
    "\n",
    "b = XTX_inv.dot(X.T).dot(y)\n",
    "\n",
    "print(b)"
   ]
  },
  {
   "cell_type": "markdown",
   "id": "92299d77",
   "metadata": {},
   "source": [
    "без intercept"
   ]
  },
  {
   "cell_type": "code",
   "execution_count": 38,
   "id": "1b5d66bd",
   "metadata": {},
   "outputs": [],
   "source": [
    "X = zp\n",
    "y = ks"
   ]
  },
  {
   "cell_type": "code",
   "execution_count": 39,
   "id": "e586176b",
   "metadata": {},
   "outputs": [
    {
     "name": "stdout",
     "output_type": "stream",
     "text": [
      "[[5.88982042]]\n"
     ]
    }
   ],
   "source": [
    "XTX = X.T.dot(X)\n",
    "\n",
    "XTX_inv = np.linalg.inv(XTX)\n",
    "\n",
    "b = XTX_inv.dot(X.T).dot(y)\n",
    "\n",
    "print(b)"
   ]
  },
  {
   "cell_type": "code",
   "execution_count": 42,
   "id": "3d1c8e10",
   "metadata": {},
   "outputs": [
    {
     "data": {
      "text/plain": [
       "[<matplotlib.lines.Line2D at 0x1f21e597c40>]"
      ]
     },
     "execution_count": 42,
     "metadata": {},
     "output_type": "execute_result"
    },
    {
     "data": {
      "image/png": "[encoded data removed]",
      "text/plain": [
       "<Figure size 432x288 with 1 Axes>"
      ]
     },
     "metadata": {
      "needs_background": "light"
     },
     "output_type": "display_data"
    }
   ],
   "source": [
    "ox = zp\n",
    "oy = b * ox\n",
    "\n",
    "plt.scatter(zp, ks)\n",
    "plt.plot(ox, oy, color='red')"
   ]
  }
 ],
 "metadata": {
  "kernelspec": {
   "display_name": "Python 3 (ipykernel)",
   "language": "python",
   "name": "python3"
  },
  "language_info": {
   "codemirror_mode": {
    "name": "ipython",
    "version": 3
   },
   "file_extension": ".py",
   "mimetype": "text/x-python",
   "name": "python",
   "nbconvert_exporter": "python",
   "pygments_lexer": "ipython3",
   "version": "3.9.7"
  }
 },
 "nbformat": 4,
 "nbformat_minor": 5
}
