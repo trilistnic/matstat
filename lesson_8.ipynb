{
 "cells": [
  {
   "cell_type": "code",
   "execution_count": 21,
   "id": "5dd22f07",
   "metadata": {},
   "outputs": [],
   "source": [
    "import numpy as np\n",
    "from scipy import stats as st"
   ]
  },
  {
   "cell_type": "markdown",
   "id": "1e7c7d36",
   "metadata": {},
   "source": [
    "**1) Провести дисперсионный анализ для определения того, есть ли различия среднего роста среди взрослых футболистов, хоккеистов и штангистов. Даны значения роста в трех группах случайно выбранных спортсменов: Футболисты: 173, 175, 180, 178, 177, 185, 183, 182. Хоккеисты: 177, 179, 180, 188, 177, 172, 171, 184, 180. Штангисты: 172, 173, 169, 177, 166, 180, 178, 177, 172, 166, 170. alpha = 0.05.**"
   ]
  },
  {
   "cell_type": "code",
   "execution_count": 23,
   "id": "7b7cdcbb",
   "metadata": {},
   "outputs": [],
   "source": [
    "f = np.array([173, 175, 180, 178, 177, 185, 183, 182])\n",
    "h = np.array([177, 179, 180, 188, 177, 172, 171, 184, 180])\n",
    "w = np.array([172, 173, 169, 177, 166, 180, 178, 177, 172, 166, 170])\n",
    "\n",
    "n_f = f.size\n",
    "n_h = h.size\n",
    "n_w = w.size"
   ]
  },
  {
   "cell_type": "code",
   "execution_count": 25,
   "id": "600664aa",
   "metadata": {},
   "outputs": [
    {
     "data": {
      "text/plain": [
       "(179.125, 178.66666666666666, 172.72727272727272)"
      ]
     },
     "execution_count": 25,
     "metadata": {},
     "output_type": "execute_result"
    }
   ],
   "source": [
    "f_mean = f.mean()\n",
    "h_mean = h.mean()\n",
    "w_mean = w.mean()\n",
    "\n",
    "f_mean, h_mean, w_mean"
   ]
  },
  {
   "cell_type": "code",
   "execution_count": 26,
   "id": "26e62ac0",
   "metadata": {},
   "outputs": [
    {
     "data": {
      "text/plain": [
       "array([173, 175, 180, 178, 177, 185, 183, 182, 177, 179, 180, 188, 177,\n",
       "       172, 171, 184, 180, 172, 173, 169, 177, 166, 180, 178, 177, 172,\n",
       "       166, 170])"
      ]
     },
     "execution_count": 26,
     "metadata": {},
     "output_type": "execute_result"
    }
   ],
   "source": [
    "all_heights = np.concatenate([f, h, w])\n",
    "all_heights_mean = all_heights.mean()\n",
    "\n",
    "all_heights"
   ]
  },
  {
   "cell_type": "code",
   "execution_count": 27,
   "id": "3a707b6e",
   "metadata": {},
   "outputs": [
    {
     "data": {
      "text/plain": [
       "176.46428571428572"
      ]
     },
     "execution_count": 27,
     "metadata": {},
     "output_type": "execute_result"
    }
   ],
   "source": [
    "all_heights_mean"
   ]
  },
  {
   "cell_type": "markdown",
   "id": "309bbb0e",
   "metadata": {},
   "source": [
    "$$S^2 = \\displaystyle\\sum_{i=1}^{k} \\displaystyle\\sum_{j=1}^{n_i} ({y}_{ij} - \\overline{y})^2$$\n",
    "<br>\n",
    "$$S_F^2 = \\displaystyle\\sum_{i=1}^k (\\overline{y}_i - \\overline{y})^2 n_i$$\n",
    "<br>\n",
    "$$S_{res}^{2} = \\displaystyle\\sum_{i=1}^k \\displaystyle\\sum_{j=1}^{n_i} (y_{ij} - \\overline{y}_i)^2$$\n",
    "<br>\n",
    "$$S^2 = S_F^2 + S_{res}^2$$"
   ]
  },
  {
   "cell_type": "code",
   "execution_count": 28,
   "id": "2916bfb3",
   "metadata": {},
   "outputs": [
    {
     "data": {
      "text/plain": [
       "(830.9642857142854, 253.9074675324678, 577.0568181818182)"
      ]
     },
     "execution_count": 28,
     "metadata": {},
     "output_type": "execute_result"
    }
   ],
   "source": [
    "S2 = ((all_heights - all_heights_mean) ** 2).sum()\n",
    "S2_F = n1 * (f_mean - all_heights_mean) ** 2 + n2 * (h_mean - all_heights_mean) ** 2 + n3 * (w_mean - all_heights_mean) ** 2\n",
    "S2_res = ((f - f_mean) ** 2).sum() + ((h - h_mean) ** 2).sum() + ((w - w_mean) ** 2).sum()\n",
    "\n",
    "S2, S2_F, S2_res"
   ]
  },
  {
   "cell_type": "code",
   "execution_count": 31,
   "id": "66c39ce0",
   "metadata": {},
   "outputs": [
    {
     "data": {
      "text/plain": [
       "True"
      ]
     },
     "execution_count": 31,
     "metadata": {},
     "output_type": "execute_result"
    }
   ],
   "source": [
    "round(S2_F + S2_res, 12) == round(S2, 12)"
   ]
  },
  {
   "cell_type": "markdown",
   "id": "ba838a8d",
   "metadata": {},
   "source": [
    "$$\\sigma_F^2 = \\dfrac{S_F^2}{k - 1}$$\n",
    "<br>\n",
    "$$\\sigma_{res}^2 = \\dfrac{S_{res}^2}{n - k}$$"
   ]
  },
  {
   "cell_type": "code",
   "execution_count": 45,
   "id": "3d641d4b",
   "metadata": {},
   "outputs": [
    {
     "data": {
      "text/plain": [
       "(126.9537337662339, 23.08227272727273)"
      ]
     },
     "execution_count": 45,
     "metadata": {},
     "output_type": "execute_result"
    }
   ],
   "source": [
    "k = 3\n",
    "n = all_heights.size\n",
    "\n",
    "k1 = k - 1\n",
    "k2 = n - k\n",
    "\n",
    "sigma2_F = S2_F / k1\n",
    "sigma2_res = S2_res / k2\n",
    "\n",
    "sigma2_F, sigma2_res"
   ]
  },
  {
   "cell_type": "markdown",
   "id": "647bfa26",
   "metadata": {},
   "source": [
    "$$T = \\dfrac{\\sigma_F^2}{\\sigma_{res}^2}$$"
   ]
  },
  {
   "cell_type": "code",
   "execution_count": 46,
   "id": "2953827e",
   "metadata": {},
   "outputs": [
    {
     "data": {
      "text/plain": [
       "5.500053450812598"
      ]
     },
     "execution_count": 46,
     "metadata": {},
     "output_type": "execute_result"
    }
   ],
   "source": [
    "T = sigma2_F / sigma2_res\n",
    "T"
   ]
  },
  {
   "cell_type": "code",
   "execution_count": 47,
   "id": "9becb4ec",
   "metadata": {},
   "outputs": [
    {
     "data": {
      "text/plain": [
       "3.3851899614491687"
      ]
     },
     "execution_count": 47,
     "metadata": {},
     "output_type": "execute_result"
    }
   ],
   "source": [
    "a = 0.05\n",
    "\n",
    "F_crit = st.f.ppf(1 - a, k1, k2)\n",
    "F_crit"
   ]
  },
  {
   "cell_type": "markdown",
   "id": "bc985935",
   "metadata": {},
   "source": [
    "Видим, что  𝑇>𝐹𝑐𝑟𝑖𝑡 , поэтому заключаем, что отличие среднего роста действительно является статистически значимым."
   ]
  }
 ],
 "metadata": {
  "kernelspec": {
   "display_name": "Python 3 (ipykernel)",
   "language": "python",
   "name": "python3"
  },
  "language_info": {
   "codemirror_mode": {
    "name": "ipython",
    "version": 3
   },
   "file_extension": ".py",
   "mimetype": "text/x-python",
   "name": "python",
   "nbconvert_exporter": "python",
   "pygments_lexer": "ipython3",
   "version": "3.9.7"
  }
 },
 "nbformat": 4,
 "nbformat_minor": 5
}
