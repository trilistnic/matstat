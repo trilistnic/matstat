{
 "cells": [
  {
   "cell_type": "code",
   "execution_count": 15,
   "id": "dcb18182",
   "metadata": {},
   "outputs": [],
   "source": [
    "import numpy as np\n",
    "import scipy.stats as st\n",
    "import pandas as pd"
   ]
  },
  {
   "cell_type": "markdown",
   "id": "d30c1f30",
   "metadata": {},
   "source": [
    "**1) Даны значения величины заработной платы заемщиков банка (zp) и значения их поведенческого кредитного скоринга (ks):\n",
    "zp = [35, 45, 190, 200, 40, 70, 54, 150, 120, 110],\n",
    "ks = [401, 574, 874, 919, 459, 739, 653, 902, 746, 832].\n",
    "Найдите ковариацию этих двух величин с помощью элементарных действий, а затем с помощью функции cov из numpy\n",
    "Полученные значения должны быть равны.\n",
    "Найдите коэффициент корреляции Пирсона с помощью ковариации и среднеквадратичных отклонений двух признаков,\n",
    "а затем с использованием функций из библиотек numpy и pandas.**"
   ]
  },
  {
   "cell_type": "code",
   "execution_count": 2,
   "id": "e66b7dfd",
   "metadata": {},
   "outputs": [],
   "source": [
    "zp = np.array([35, 45, 190, 200, 40, 70, 54, 150, 120, 110])\n",
    "ks = np.array([401, 574, 874, 919, 459, 739, 653, 902, 746, 832])"
   ]
  },
  {
   "cell_type": "markdown",
   "id": "821ff4e1",
   "metadata": {},
   "source": [
    "$$\\operatorname{cov}(X, Y) = M\\left( (X - M(X)) (Y - M(Y)) \\right)$$"
   ]
  },
  {
   "cell_type": "code",
   "execution_count": 10,
   "id": "a0e63341",
   "metadata": {},
   "outputs": [
    {
     "data": {
      "text/plain": [
       "9157.84"
      ]
     },
     "execution_count": 10,
     "metadata": {},
     "output_type": "execute_result"
    }
   ],
   "source": [
    "X = zp\n",
    "Y = ks\n",
    "MX = zp.mean()\n",
    "MY = ks.mean()\n",
    "\n",
    "cov = ((X - MX) * (Y - MY)).mean()\n",
    "cov"
   ]
  },
  {
   "cell_type": "code",
   "execution_count": 11,
   "id": "24c14482",
   "metadata": {},
   "outputs": [
    {
     "data": {
      "text/plain": [
       "9157.84"
      ]
     },
     "execution_count": 11,
     "metadata": {},
     "output_type": "execute_result"
    }
   ],
   "source": [
    "np.cov(zp, ks, ddof = 0)[0,1]"
   ]
  },
  {
   "cell_type": "markdown",
   "id": "29989bd6",
   "metadata": {},
   "source": [
    "$$r_{XY} = \\dfrac{\\operatorname{cov}(X, Y)}{\\sigma_X \\cdot \\sigma_Y}$$"
   ]
  },
  {
   "cell_type": "code",
   "execution_count": 21,
   "id": "58602082",
   "metadata": {},
   "outputs": [
    {
     "data": {
      "text/plain": [
       "0.8874900920739162"
      ]
     },
     "execution_count": 21,
     "metadata": {},
     "output_type": "execute_result"
    }
   ],
   "source": [
    "r = cov / (X.std() * Y.std())\n",
    "r"
   ]
  },
  {
   "cell_type": "code",
   "execution_count": 14,
   "id": "5b8e2f90",
   "metadata": {},
   "outputs": [
    {
     "data": {
      "text/plain": [
       "0.8874900920739162"
      ]
     },
     "execution_count": 14,
     "metadata": {},
     "output_type": "execute_result"
    }
   ],
   "source": [
    "np.corrcoef(zp,ks)[0,1]"
   ]
  },
  {
   "cell_type": "code",
   "execution_count": 16,
   "id": "9be35f72",
   "metadata": {},
   "outputs": [],
   "source": [
    "df = pd.DataFrame({'zp' : X, 'ks' : Y})"
   ]
  },
  {
   "cell_type": "code",
   "execution_count": 17,
   "id": "451bf5e0",
   "metadata": {},
   "outputs": [
    {
     "data": {
      "text/plain": [
       "0.8874900920739168"
      ]
     },
     "execution_count": 17,
     "metadata": {},
     "output_type": "execute_result"
    }
   ],
   "source": [
    "df.corr().loc['zp', 'ks']"
   ]
  },
  {
   "cell_type": "markdown",
   "id": "4c3f94d3",
   "metadata": {},
   "source": [
    "**2) Измерены значения IQ выборки студентов,\n",
    "обучающихся в местных технических вузах:\n",
    "131, 125, 115, 122, 131, 115, 107, 99, 125, 111.\n",
    "Известно, что в генеральной совокупности IQ распределен нормально.\n",
    "Найдите доверительный интервал для математического ожидания с надежностью 0.95.**"
   ]
  },
  {
   "cell_type": "code",
   "execution_count": 24,
   "id": "1e132a75",
   "metadata": {},
   "outputs": [],
   "source": [
    "data = np.array([131, 125, 115, 122, 131, 115, 107, 99, 125, 111])"
   ]
  },
  {
   "cell_type": "code",
   "execution_count": 55,
   "id": "108e2bc6",
   "metadata": {},
   "outputs": [],
   "source": [
    "a = 0.05\n",
    "n = data.shape[0]\n",
    "m = data.mean()\n",
    "s = data.std(ddof=1)"
   ]
  },
  {
   "cell_type": "markdown",
   "id": "747e5e1e",
   "metadata": {},
   "source": [
    "$t_{1 - \\alpha/2, \\: n - 1}$"
   ]
  },
  {
   "cell_type": "code",
   "execution_count": 26,
   "id": "12ee51fa",
   "metadata": {},
   "outputs": [
    {
     "data": {
      "text/plain": [
       "2.2621571627409915"
      ]
     },
     "execution_count": 26,
     "metadata": {},
     "output_type": "execute_result"
    }
   ],
   "source": [
    "t = st.t.ppf(1 - a/2, n - 1)\n",
    "t"
   ]
  },
  {
   "cell_type": "markdown",
   "id": "9ba6d3eb",
   "metadata": {},
   "source": [
    "$$\n",
    "P \\left( \n",
    "\\overline{X} - t_{1 - \\alpha/2, \\: n - 1} \\cdot \\dfrac{\\sigma_X}{\\sqrt{n}} \n",
    "\\leq M(X) \\leq\n",
    "\\overline{X} + t_{1 - \\alpha/2, \\: n - 1} \\cdot \\dfrac{\\sigma_X}{\\sqrt{n}} \n",
    "\\right).\n",
    "$$"
   ]
  },
  {
   "cell_type": "code",
   "execution_count": 27,
   "id": "0c27e845",
   "metadata": {},
   "outputs": [
    {
     "data": {
      "text/plain": [
       "(110.55608365158724, 125.64391634841274)"
      ]
     },
     "execution_count": 27,
     "metadata": {},
     "output_type": "execute_result"
    }
   ],
   "source": [
    "(m - t * s / np.sqrt(n), m + t * s / np.sqrt(n))"
   ]
  },
  {
   "cell_type": "markdown",
   "id": "7dae106d",
   "metadata": {},
   "source": [
    "$ИЛИ$"
   ]
  },
  {
   "cell_type": "code",
   "execution_count": 30,
   "id": "a104c44e",
   "metadata": {},
   "outputs": [
    {
     "data": {
      "text/plain": [
       "(110.55608365158724, 125.64391634841274)"
      ]
     },
     "execution_count": 30,
     "metadata": {},
     "output_type": "execute_result"
    }
   ],
   "source": [
    "st.t.interval(1 - a, n - 1, np.mean(data), st.sem(data))"
   ]
  },
  {
   "cell_type": "markdown",
   "id": "1d5d09da",
   "metadata": {},
   "source": [
    "**3) Известно, что рост футболистов в сборной распределен нормально\n",
    "с дисперсией генеральной совокупности, равной 25 кв.см. Объем выборки равен 27,\n",
    "среднее выборочное составляет 174.2. Найдите доверительный интервал для математического\n",
    "ожидания с надежностью 0.95.**"
   ]
  },
  {
   "cell_type": "code",
   "execution_count": 56,
   "id": "a7471c21",
   "metadata": {},
   "outputs": [],
   "source": [
    "a = 0.05\n",
    "n = 27\n",
    "m = 174.2\n",
    "d = 25\n",
    "s = np.sqrt(d)\n",
    "se = s / np.sqrt(n)"
   ]
  },
  {
   "cell_type": "markdown",
   "id": "de80ff01",
   "metadata": {},
   "source": [
    "$t_{1 - \\alpha/2, \\: n - 1}$"
   ]
  },
  {
   "cell_type": "code",
   "execution_count": 47,
   "id": "f413206d",
   "metadata": {},
   "outputs": [
    {
     "data": {
      "text/plain": [
       "2.055529438642871"
      ]
     },
     "execution_count": 47,
     "metadata": {},
     "output_type": "execute_result"
    }
   ],
   "source": [
    "t = st.t.ppf(1 - a/2, n - 1)\n",
    "t"
   ]
  },
  {
   "cell_type": "markdown",
   "id": "75d63993",
   "metadata": {},
   "source": [
    "$$\n",
    "P \\left( \n",
    "\\overline{X} - t_{1 - \\alpha/2, \\: n - 1} \\cdot \\dfrac{\\sigma_X}{\\sqrt{n}} \n",
    "\\leq M(X) \\leq\n",
    "\\overline{X} + t_{1 - \\alpha/2, \\: n - 1} \\cdot \\dfrac{\\sigma_X}{\\sqrt{n}} \n",
    "\\right).\n",
    "$$"
   ]
  },
  {
   "cell_type": "code",
   "execution_count": 48,
   "id": "09427f6f",
   "metadata": {},
   "outputs": [
    {
     "data": {
      "text/plain": [
       "(172.2220658754539, 176.17793412454608)"
      ]
     },
     "execution_count": 48,
     "metadata": {},
     "output_type": "execute_result"
    }
   ],
   "source": [
    "(m - t * s / np.sqrt(n), m + t * s / np.sqrt(n))"
   ]
  },
  {
   "cell_type": "markdown",
   "id": "2832b962",
   "metadata": {},
   "source": [
    "$ИЛИ$"
   ]
  },
  {
   "cell_type": "code",
   "execution_count": 57,
   "id": "67f867a0",
   "metadata": {},
   "outputs": [
    {
     "data": {
      "text/plain": [
       "(172.2220658754539, 176.17793412454608)"
      ]
     },
     "execution_count": 57,
     "metadata": {},
     "output_type": "execute_result"
    }
   ],
   "source": [
    "st.t.interval(1 - a, n - 1, m, se)"
   ]
  },
  {
   "cell_type": "markdown",
   "id": "168a2c46",
   "metadata": {},
   "source": [
    "**4) Выберите тему для проектной работы по курсу Теории вероятностей и математической статистики\n",
    "и напишите ее в комментарии к Практическому заданию.**"
   ]
  },
  {
   "cell_type": "markdown",
   "id": "ecfc4698",
   "metadata": {},
   "source": [
    "Зависит ли IQ человека от объёма головного мозга."
   ]
  }
 ],
 "metadata": {
  "kernelspec": {
   "display_name": "Python 3 (ipykernel)",
   "language": "python",
   "name": "python3"
  },
  "language_info": {
   "codemirror_mode": {
    "name": "ipython",
    "version": 3
   },
   "file_extension": ".py",
   "mimetype": "text/x-python",
   "name": "python",
   "nbconvert_exporter": "python",
   "pygments_lexer": "ipython3",
   "version": "3.9.7"
  }
 },
 "nbformat": 4,
 "nbformat_minor": 5
}
