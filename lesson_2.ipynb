{
 "cells": [
  {
   "cell_type": "code",
   "execution_count": 2,
   "id": "93d5a5b6",
   "metadata": {},
   "outputs": [],
   "source": [
    "import numpy as np\n",
    "from math import factorial"
   ]
  },
  {
   "cell_type": "code",
   "execution_count": 9,
   "id": "50b5cdbb",
   "metadata": {},
   "outputs": [],
   "source": [
    "def combinations(n, k):\n",
    "    return factorial(n) / (factorial(k) * factorial(n - k))\n",
    "\n",
    "def Bernoulli(n, k, p):\n",
    "    return combinations(n, k) * p**(k) * (1 - p)**(n - k)\n",
    "\n",
    "def Poisson(n, p , m):\n",
    "    lambda_ = n * p\n",
    "    return (lambda_**m / factorial(m)) * np.exp(-lambda_)"
   ]
  },
  {
   "cell_type": "markdown",
   "id": "7e5196e2",
   "metadata": {},
   "source": [
    "**1) Вероятность того, что стрелок попадет в мишень, выстрелив один раз, равна 0.8. Стрелок выстрелил 100 раз. Найдите вероятность того, что стрелок попадет в цель ровно 85 раз.**"
   ]
  },
  {
   "cell_type": "markdown",
   "id": "95988a90",
   "metadata": {},
   "source": [
    "$$p(k=85) = C_n^k \\cdot p^k \\cdot q^{n-k} = C_{100}^{85} \\cdot 0.8^{85} \\cdot 0.2^{15} = 0.048$$"
   ]
  },
  {
   "cell_type": "code",
   "execution_count": 6,
   "id": "e0dbd98b",
   "metadata": {},
   "outputs": [
    {
     "data": {
      "text/plain": [
       "0.048061793700746355"
      ]
     },
     "execution_count": 6,
     "metadata": {},
     "output_type": "execute_result"
    }
   ],
   "source": [
    "Bernoulli(100, 85, 0.8)"
   ]
  },
  {
   "cell_type": "markdown",
   "id": "70544582",
   "metadata": {},
   "source": [
    "**2) Вероятность того, что лампочка перегорит в течение первого дня эксплуатации, равна 0.0004. В жилом комплексе после ремонта в один день включили 5000 новых лампочек. Какова вероятность, что ни одна из них не перегорит в первый день? Какова вероятность, что перегорят ровно две?**"
   ]
  },
  {
   "cell_type": "markdown",
   "id": "3055fa74",
   "metadata": {},
   "source": [
    "$$P_m \\approx \\frac{\\lambda^m}{m!}e^{-\\lambda}$$"
   ]
  },
  {
   "cell_type": "markdown",
   "id": "75667931",
   "metadata": {},
   "source": [
    "$$λ=𝑛𝑝$$"
   ]
  },
  {
   "cell_type": "markdown",
   "id": "82264278",
   "metadata": {},
   "source": [
    "$$P_0 \\approx \\frac{(5000*0.0004)^0}{0!}e^{-(5000*0.0004)}=0.135$$"
   ]
  },
  {
   "cell_type": "code",
   "execution_count": 8,
   "id": "9645f315",
   "metadata": {},
   "outputs": [
    {
     "data": {
      "text/plain": [
       "0.1353352832366127"
      ]
     },
     "execution_count": 8,
     "metadata": {},
     "output_type": "execute_result"
    }
   ],
   "source": [
    "Poisson(5000, 0.0004 , 0)"
   ]
  },
  {
   "cell_type": "markdown",
   "id": "fbcc2c62",
   "metadata": {},
   "source": [
    "$$P_2 \\approx \\frac{(5000*0.0004)^2}{2!}e^{-(5000*0.0004)}=0.271$$"
   ]
  },
  {
   "cell_type": "code",
   "execution_count": 10,
   "id": "8f6dc0c5",
   "metadata": {},
   "outputs": [
    {
     "data": {
      "text/plain": [
       "0.2706705664732254"
      ]
     },
     "execution_count": 10,
     "metadata": {},
     "output_type": "execute_result"
    }
   ],
   "source": [
    "Poisson(5000, 0.0004 , 2)"
   ]
  },
  {
   "cell_type": "markdown",
   "id": "17b3e007",
   "metadata": {},
   "source": [
    "**3) Монету подбросили 144 раза. Какова вероятность, что орел выпадет ровно 70 раз?**"
   ]
  },
  {
   "cell_type": "markdown",
   "id": "e53a299e",
   "metadata": {},
   "source": [
    "$$p(k=70) = C_n^k \\cdot p^k \\cdot q^{n-k} = C_{144}^{70} \\cdot 0.5^{70} \\cdot 0.5^{74} = 0.063$$"
   ]
  },
  {
   "cell_type": "code",
   "execution_count": 7,
   "id": "3adfc9a4",
   "metadata": {},
   "outputs": [
    {
     "data": {
      "text/plain": [
       "0.06281178035144776"
      ]
     },
     "execution_count": 7,
     "metadata": {},
     "output_type": "execute_result"
    }
   ],
   "source": [
    "Bernoulli(144, 70, 0.5)"
   ]
  },
  {
   "cell_type": "markdown",
   "id": "88fdeda9",
   "metadata": {},
   "source": [
    "**4) В первом ящике находится 10 мячей, из которых 7 - белые. Во втором ящике - 11 мячей, из которых 9 белых. Из каждого ящика вытаскивают случайным образом по два мяча одновременно (можно решать и в иной постановке, т.е. что шары вытаскиваются не одновременно, важно лишь уточнить, что Вы имели в виду). Какова вероятность того, что все мячи белые? Какова вероятность того, что ровно два мяча белые? Какова вероятность того, что хотя бы один мяч белый?**"
   ]
  },
  {
   "cell_type": "markdown",
   "id": "257ec3fd",
   "metadata": {},
   "source": [
    "$$P_{all white} = \\frac{C_7^2}{C_{10}^{2}}*\\frac{C_9^2}{C_{11}^2} = 0.305$$"
   ]
  },
  {
   "cell_type": "code",
   "execution_count": 14,
   "id": "712c3118",
   "metadata": {},
   "outputs": [
    {
     "data": {
      "text/plain": [
       "0.3054545454545455"
      ]
     },
     "execution_count": 14,
     "metadata": {},
     "output_type": "execute_result"
    }
   ],
   "source": [
    "(combinations(7, 2) / combinations(10, 2)) * (combinations(9, 2) / combinations(11, 2))"
   ]
  },
  {
   "cell_type": "markdown",
   "id": "84fc4851",
   "metadata": {},
   "source": [
    "$$P_{2 white} = P_{2 white 1 box} + P_{2 white 2 box} + P_{1 white each box} = 0.205$$"
   ]
  },
  {
   "cell_type": "markdown",
   "id": "f6dbba3b",
   "metadata": {},
   "source": [
    "$$P_{2 white 1 box} = \\frac{C_7^2}{C_{10}^{2}}*\\frac{C_2^2}{C_{11}^2} = 0.008$$"
   ]
  },
  {
   "cell_type": "code",
   "execution_count": 38,
   "id": "77f5b3f0",
   "metadata": {},
   "outputs": [
    {
     "name": "stdout",
     "output_type": "stream",
     "text": [
      "0.008484848484848486\n"
     ]
    }
   ],
   "source": [
    "a = combinations(7, 2) / combinations(10, 2) * combinations(2, 2) / combinations(11, 2)\n",
    "print(a)"
   ]
  },
  {
   "cell_type": "markdown",
   "id": "b667b864",
   "metadata": {},
   "source": [
    "$$P_{2 white 2 box} = \\frac{C_3^2}{C_{10}^{2}}*\\frac{C_9^2}{C_{11}^2} = 0.044$$"
   ]
  },
  {
   "cell_type": "code",
   "execution_count": 39,
   "id": "d6e89646",
   "metadata": {},
   "outputs": [
    {
     "name": "stdout",
     "output_type": "stream",
     "text": [
      "0.04363636363636363\n"
     ]
    }
   ],
   "source": [
    "b = combinations(3, 2) / combinations(10, 2) * combinations(9, 2) / combinations(11, 2)\n",
    "print(b)"
   ]
  },
  {
   "cell_type": "markdown",
   "id": "2b29d6dd",
   "metadata": {},
   "source": [
    "$$P_{1 white each box} = \\frac{C_7^1*C_3^1}{C_{10}^{2}}*\\frac{C_9^1*C_2^1}{C_{11}^2} = 0.153$$"
   ]
  },
  {
   "cell_type": "code",
   "execution_count": 40,
   "id": "e6f170ff",
   "metadata": {},
   "outputs": [
    {
     "name": "stdout",
     "output_type": "stream",
     "text": [
      "0.15272727272727274\n"
     ]
    }
   ],
   "source": [
    "c = (combinations(7, 1) * combinations(3, 1)) / combinations(10, 2) * (combinations(9, 1) * combinations(2, 1)) / combinations(11, 2)\n",
    "print(c)"
   ]
  },
  {
   "cell_type": "code",
   "execution_count": 41,
   "id": "e2e97646",
   "metadata": {},
   "outputs": [
    {
     "name": "stdout",
     "output_type": "stream",
     "text": [
      "0.20484848484848486\n"
     ]
    }
   ],
   "source": [
    "print(a+b+c)"
   ]
  },
  {
   "cell_type": "markdown",
   "id": "47ca31f1",
   "metadata": {},
   "source": [
    "$$P_{atleast 1 white} = 1 - \\frac{C_3^2}{C_{10}^{2}}*\\frac{C_2^2}{C_{11}^2} = 0.999$$"
   ]
  },
  {
   "cell_type": "code",
   "execution_count": 31,
   "id": "fe573468",
   "metadata": {},
   "outputs": [
    {
     "data": {
      "text/plain": [
       "0.9987878787878788"
      ]
     },
     "execution_count": 31,
     "metadata": {},
     "output_type": "execute_result"
    }
   ],
   "source": [
    "1 - (combinations(3, 2) / combinations(10, 2)) * (combinations(2, 2) / combinations(11, 2))"
   ]
  }
 ],
 "metadata": {
  "kernelspec": {
   "display_name": "Python 3 (ipykernel)",
   "language": "python",
   "name": "python3"
  },
  "language_info": {
   "codemirror_mode": {
    "name": "ipython",
    "version": 3
   },
   "file_extension": ".py",
   "mimetype": "text/x-python",
   "name": "python",
   "nbconvert_exporter": "python",
   "pygments_lexer": "ipython3",
   "version": "3.9.7"
  }
 },
 "nbformat": 4,
 "nbformat_minor": 5
}
