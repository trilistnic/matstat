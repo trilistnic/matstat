{
 "cells": [
  {
   "cell_type": "code",
   "execution_count": 28,
   "id": "24304c46",
   "metadata": {},
   "outputs": [],
   "source": [
    "import numpy as np\n",
    "from math import factorial\n",
    "from matplotlib import pyplot as plt\n",
    "import seaborn as sns\n",
    "import warnings\n",
    "\n",
    "warnings.filterwarnings('ignore')"
   ]
  },
  {
   "cell_type": "code",
   "execution_count": 2,
   "id": "bf84b208",
   "metadata": {},
   "outputs": [],
   "source": [
    "def combinations(n, k):\n",
    "    return factorial(n) / (factorial(k) * factorial(n - k))"
   ]
  },
  {
   "cell_type": "markdown",
   "id": "0d914139",
   "metadata": {},
   "source": [
    "**1) Даны значения зарплат из выборки выпускников: 100, 80, 75, 77, 89, 33, 45, 25, 65, 17, 30, 24, 57, 55, 70, 75, 65, 84, 90, 150. Посчитать (желательно без использования статистических методов наподобие std, var, mean) среднее арифметическое, среднее квадратичное отклонение, смещенную и несмещенную оценки дисперсий, первый и третий квартили, интерквартильное расстояние. Найти выбросы в выборке, используя для этого \"усы\" из boxplot. В этой задаче можно использовать статистические функции.**"
   ]
  },
  {
   "cell_type": "code",
   "execution_count": 3,
   "id": "cfb37100",
   "metadata": {},
   "outputs": [],
   "source": [
    "salary = np.array([100, 80, 75, 77, 89, 33, 45, 25, 65, 17, 30, 24, 57, 55, 70, 75, 65, 84, 90, 150])"
   ]
  },
  {
   "cell_type": "markdown",
   "id": "a78065d3",
   "metadata": {},
   "source": [
    "$$\\overline{x} = 65.30$$"
   ]
  },
  {
   "cell_type": "code",
   "execution_count": 8,
   "id": "0513f60d",
   "metadata": {},
   "outputs": [
    {
     "data": {
      "text/plain": [
       "65.3"
      ]
     },
     "execution_count": 8,
     "metadata": {},
     "output_type": "execute_result"
    }
   ],
   "source": [
    "salary_mean = sum(salary) / len(salary)\n",
    "salary_mean"
   ]
  },
  {
   "cell_type": "markdown",
   "id": "b92dff35",
   "metadata": {},
   "source": [
    "$$\\sigma = \\sqrt{\\frac{\\sum\\limits_{i=1}^{n} (x_i - \\overline{x})^2}{n}} = 30.82$$"
   ]
  },
  {
   "cell_type": "code",
   "execution_count": 10,
   "id": "56283dca",
   "metadata": {},
   "outputs": [
    {
     "data": {
      "text/plain": [
       "30.823854398825596"
      ]
     },
     "execution_count": 10,
     "metadata": {},
     "output_type": "execute_result"
    }
   ],
   "source": [
    "sigma = np.sqrt(sum((salary - salary_mean ) ** 2) / len(salary))\n",
    "sigma"
   ]
  },
  {
   "cell_type": "markdown",
   "id": "45c35cb8",
   "metadata": {},
   "source": [
    "$$\\sigma^2 = \\frac{\\sum\\limits_{i=1}^{n} (x_i - \\overline{x})^2}{n} = 950.11$$"
   ]
  },
  {
   "cell_type": "code",
   "execution_count": 11,
   "id": "eb1b518b",
   "metadata": {},
   "outputs": [
    {
     "data": {
      "text/plain": [
       "950.11"
      ]
     },
     "execution_count": 11,
     "metadata": {},
     "output_type": "execute_result"
    }
   ],
   "source": [
    "salary_variance = sum((salary - salary_mean ) ** 2) / len(salary)\n",
    "salary_variance"
   ]
  },
  {
   "cell_type": "markdown",
   "id": "2a90ec64",
   "metadata": {},
   "source": [
    "$$\\sigma^2_{несмещ.} = \\frac{\\sum\\limits_{i=1}^{n} (x_i - \\overline{x})^2}{n - 1} = 1000.12$$"
   ]
  },
  {
   "cell_type": "code",
   "execution_count": 13,
   "id": "023f0957",
   "metadata": {},
   "outputs": [
    {
     "data": {
      "text/plain": [
       "1000.1157894736842"
      ]
     },
     "execution_count": 13,
     "metadata": {},
     "output_type": "execute_result"
    }
   ],
   "source": [
    "salary_variance_2 = sum((salary - salary_mean ) ** 2) / (len(salary) - 1)\n",
    "salary_variance_2"
   ]
  },
  {
   "cell_type": "markdown",
   "id": "3575be07",
   "metadata": {},
   "source": [
    "**Первый квартиль** — значение, которое не превышают 25 % наблюдений в выборке."
   ]
  },
  {
   "cell_type": "code",
   "execution_count": 24,
   "id": "6f3480cf",
   "metadata": {},
   "outputs": [
    {
     "data": {
      "text/plain": [
       "42.0"
      ]
     },
     "execution_count": 24,
     "metadata": {},
     "output_type": "execute_result"
    }
   ],
   "source": [
    "quantile_1 = np.quantile(salary, 0.25)\n",
    "quantile_1"
   ]
  },
  {
   "cell_type": "markdown",
   "id": "4d4c728e",
   "metadata": {},
   "source": [
    "**Третий квартиль** — значение, которое не превышают 75 % наблюдений в выборке."
   ]
  },
  {
   "cell_type": "code",
   "execution_count": 25,
   "id": "8170ce7e",
   "metadata": {},
   "outputs": [
    {
     "data": {
      "text/plain": [
       "81.0"
      ]
     },
     "execution_count": 25,
     "metadata": {},
     "output_type": "execute_result"
    }
   ],
   "source": [
    "quantile_3 = np.quantile(salary, 0.75)\n",
    "quantile_3"
   ]
  },
  {
   "cell_type": "markdown",
   "id": "f2166ac3",
   "metadata": {},
   "source": [
    "**Интерквартильное расстояние** — отрезок, равный разности 3-й и 1-й квартили."
   ]
  },
  {
   "cell_type": "code",
   "execution_count": 26,
   "id": "99df38ee",
   "metadata": {},
   "outputs": [
    {
     "data": {
      "text/plain": [
       "39.0"
      ]
     },
     "execution_count": 26,
     "metadata": {},
     "output_type": "execute_result"
    }
   ],
   "source": [
    "quantile_3 - quantile_1"
   ]
  },
  {
   "cell_type": "markdown",
   "id": "d5361485",
   "metadata": {},
   "source": [
    "**Выбросы** — по графику видно, что в представленных значения зарплат есть выброс: 150"
   ]
  },
  {
   "cell_type": "code",
   "execution_count": 29,
   "id": "e349fce5",
   "metadata": {},
   "outputs": [
    {
     "data": {
      "image/png": "[encoded data removed]",
      "text/plain": [
       "<Figure size 432x288 with 1 Axes>"
      ]
     },
     "metadata": {
      "needs_background": "light"
     },
     "output_type": "display_data"
    }
   ],
   "source": [
    "sns.boxplot(salary, orient='x')\n",
    "plt.show()"
   ]
  },
  {
   "cell_type": "markdown",
   "id": "d9976ff2",
   "metadata": {},
   "source": [
    "**2) В первом ящике находится 8 мячей, из которых 5 - белые. Во втором ящике - 12 мячей, из которых 5 белых. Из первого ящика вытаскивают случайным образом два мяча, из второго - 4. Какова вероятность того, что 3 мяча белые?**"
   ]
  },
  {
   "cell_type": "markdown",
   "id": "8f790bb7",
   "metadata": {},
   "source": [
    "$$P_{3 white} = P_{2 from 1 box 1 from 2 box} + P_{1 from 1 box 2 from 2 box} + P_{3 from 2 box} = 0.369$$"
   ]
  },
  {
   "cell_type": "markdown",
   "id": "72dbc95e",
   "metadata": {},
   "source": [
    "$$P_{2 from 1 box 1 from 2 box} = \\frac{C_5^2}{C_{8}^2}*\\frac{C_5^1*C_7^3}{C_{12}^4} = 0.126$$"
   ]
  },
  {
   "cell_type": "code",
   "execution_count": 30,
   "id": "49501b2f",
   "metadata": {},
   "outputs": [
    {
     "name": "stdout",
     "output_type": "stream",
     "text": [
      "0.12626262626262627\n"
     ]
    }
   ],
   "source": [
    "a = combinations(5, 2) / combinations(8, 2) * (combinations(5, 1) * combinations(7, 3)) / combinations(12, 4)\n",
    "print(a)"
   ]
  },
  {
   "cell_type": "markdown",
   "id": "882895ff",
   "metadata": {},
   "source": [
    "$$P_{1 from 1 box 2 from 2 box} = \\frac{C_5^1*C_3^1}{C_{8}^2}*\\frac{C_5^2*C_7^2}{C_{12}^4} = 0.227$$"
   ]
  },
  {
   "cell_type": "code",
   "execution_count": 31,
   "id": "0fcccca8",
   "metadata": {},
   "outputs": [
    {
     "name": "stdout",
     "output_type": "stream",
     "text": [
      "0.22727272727272727\n"
     ]
    }
   ],
   "source": [
    "b = (combinations(5, 1) * combinations(3, 1)) / combinations(8, 2) * (combinations(5, 2) * combinations(7, 2)) / combinations(12, 4)\n",
    "print(b)"
   ]
  },
  {
   "cell_type": "markdown",
   "id": "48a9089c",
   "metadata": {},
   "source": [
    "$$P_{3 from 2 box} = \\frac{C_3^2}{C_{8}^2}*\\frac{C_5^3*C_7^1}{C_{12}^4} = 0.015$$"
   ]
  },
  {
   "cell_type": "code",
   "execution_count": 33,
   "id": "e44b6089",
   "metadata": {},
   "outputs": [
    {
     "name": "stdout",
     "output_type": "stream",
     "text": [
      "0.015151515151515152\n"
     ]
    }
   ],
   "source": [
    "c = combinations(3, 2) / combinations(8, 2) * (combinations(5, 3) * combinations(7, 1)) / combinations(12, 4)\n",
    "print(c)"
   ]
  },
  {
   "cell_type": "code",
   "execution_count": 34,
   "id": "19d1f3b4",
   "metadata": {},
   "outputs": [
    {
     "name": "stdout",
     "output_type": "stream",
     "text": [
      "0.3686868686868687\n"
     ]
    }
   ],
   "source": [
    "print(a + b + c)"
   ]
  },
  {
   "cell_type": "markdown",
   "id": "172710d2",
   "metadata": {},
   "source": [
    "**3) В университет на факультеты A и B поступило равное количество студентов, а на факультет C студентов поступило столько же, сколько на A и B вместе. Вероятность того, что студент факультета A сдаст первую сессию, равна 0.8. Для студента факультета B эта вероятность равна 0.7, а для студента факультета C - 0.9. Студент сдал первую сессию. Какова вероятность, что он учится: a). на факультете A б). на факультете B в). на факультете C?**"
   ]
  },
  {
   "cell_type": "markdown",
   "id": "57be9521",
   "metadata": {},
   "source": [
    "$$P(B\\:|\\:A) = \\frac{P(B) \\cdot P(A\\:|\\:B)}{P(A)}$$"
   ]
  },
  {
   "cell_type": "code",
   "execution_count": 39,
   "id": "62e220dc",
   "metadata": {},
   "outputs": [
    {
     "data": {
      "text/plain": [
       "0.825"
      ]
     },
     "execution_count": 39,
     "metadata": {},
     "output_type": "execute_result"
    }
   ],
   "source": [
    "P_A = (1/4 * 0.8) + (1/4 * 0.7) + (1/2 * 0.9)\n",
    "P_A"
   ]
  },
  {
   "cell_type": "markdown",
   "id": "5b53f8db",
   "metadata": {},
   "source": [
    "$$P(B_1\\:|\\:A) = \\frac{\\frac{1}{4} \\cdot 0.8}{\\frac{1}{4} \\cdot 0.8 + \\frac{1}{4} \\cdot 0.7 + \\frac{1}{2} \\cdot 0.9} = 0.242$$"
   ]
  },
  {
   "cell_type": "code",
   "execution_count": 40,
   "id": "de130ff4",
   "metadata": {},
   "outputs": [
    {
     "data": {
      "text/plain": [
       "0.24242424242424246"
      ]
     },
     "execution_count": 40,
     "metadata": {},
     "output_type": "execute_result"
    }
   ],
   "source": [
    "P_B1 = (1/4 * 0.8) / P_A\n",
    "P_B1"
   ]
  },
  {
   "cell_type": "markdown",
   "id": "8f3e418d",
   "metadata": {},
   "source": [
    "$$P(B_2\\:|\\:A) = \\frac{\\frac{1}{4} \\cdot 0.7}{\\frac{1}{4} \\cdot 0.8 + \\frac{1}{4} \\cdot 0.7 + \\frac{1}{2} \\cdot 0.9} = 0.212$$"
   ]
  },
  {
   "cell_type": "code",
   "execution_count": 41,
   "id": "53782504",
   "metadata": {},
   "outputs": [
    {
     "data": {
      "text/plain": [
       "0.21212121212121213"
      ]
     },
     "execution_count": 41,
     "metadata": {},
     "output_type": "execute_result"
    }
   ],
   "source": [
    "P_B2 = (1/4 * 0.7) / P_A\n",
    "P_B2"
   ]
  },
  {
   "cell_type": "markdown",
   "id": "b0826903",
   "metadata": {},
   "source": [
    "$$P(B_3\\:|\\:A) = \\frac{\\frac{1}{2} \\cdot 0.9}{\\frac{1}{4} \\cdot 0.8 + \\frac{1}{4} \\cdot 0.7 + \\frac{1}{2} \\cdot 0.9} = 0.545$$"
   ]
  },
  {
   "cell_type": "code",
   "execution_count": 42,
   "id": "75e592ab",
   "metadata": {},
   "outputs": [
    {
     "data": {
      "text/plain": [
       "0.5454545454545455"
      ]
     },
     "execution_count": 42,
     "metadata": {},
     "output_type": "execute_result"
    }
   ],
   "source": [
    "P_B3 = (1/2 * 0.9) / P_A\n",
    "P_B3"
   ]
  },
  {
   "cell_type": "markdown",
   "id": "6af6439e",
   "metadata": {},
   "source": [
    "**4) Устройство состоит из трех деталей. Для первой детали вероятность выйти из строя в первый месяц равна 0.1, для второй - 0.2, для третьей - 0.25. Какова вероятность того, что в первый месяц выйдут из строя: а). все детали б). только две детали в). хотя бы одна деталь г). от одной до двух деталей?**"
   ]
  },
  {
   "cell_type": "code",
   "execution_count": 44,
   "id": "5f084b5c",
   "metadata": {},
   "outputs": [
    {
     "data": {
      "text/plain": [
       "0.005000000000000001"
      ]
     },
     "execution_count": 44,
     "metadata": {},
     "output_type": "execute_result"
    }
   ],
   "source": [
    "P_A = 0.1 * 0.2 * 0.25\n",
    "P_A"
   ]
  },
  {
   "cell_type": "code",
   "execution_count": 46,
   "id": "ed3bd84d",
   "metadata": {},
   "outputs": [
    {
     "data": {
      "text/plain": [
       "0.08000000000000002"
      ]
     },
     "execution_count": 46,
     "metadata": {},
     "output_type": "execute_result"
    }
   ],
   "source": [
    "P_B = (0.1 * 0.2 * (1 - 0.25)) + (0.1 * (1 - 0.2) * 0.25) + ((1 - 0.1) * 0.2 * 0.25)\n",
    "P_B"
   ]
  },
  {
   "cell_type": "code",
   "execution_count": 47,
   "id": "0a46837b",
   "metadata": {},
   "outputs": [
    {
     "data": {
      "text/plain": [
       "0.45999999999999996"
      ]
     },
     "execution_count": 47,
     "metadata": {},
     "output_type": "execute_result"
    }
   ],
   "source": [
    "P_C = 1- ((1 - 0.1) * (1 - 0.2) * (1 - 0.25))\n",
    "P_C"
   ]
  },
  {
   "cell_type": "code",
   "execution_count": 48,
   "id": "6a1e655e",
   "metadata": {},
   "outputs": [
    {
     "data": {
      "text/plain": [
       "0.45500000000000007"
      ]
     },
     "execution_count": 48,
     "metadata": {},
     "output_type": "execute_result"
    }
   ],
   "source": [
    "P_D = P_B + (0.1 * (1 - 0.2) * (1 - 0.25)) + ((1 - 0.1) * (1 - 0.2) * 0.25) + ((1 - 0.1) * 0.2 * (1 - 0.25))\n",
    "P_D"
   ]
  }
 ],
 "metadata": {
  "kernelspec": {
   "display_name": "Python 3 (ipykernel)",
   "language": "python",
   "name": "python3"
  },
  "language_info": {
   "codemirror_mode": {
    "name": "ipython",
    "version": 3
   },
   "file_extension": ".py",
   "mimetype": "text/x-python",
   "name": "python",
   "nbconvert_exporter": "python",
   "pygments_lexer": "ipython3",
   "version": "3.9.7"
  }
 },
 "nbformat": 4,
 "nbformat_minor": 5
}
